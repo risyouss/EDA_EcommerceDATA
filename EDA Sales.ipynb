{
 "cells": [
  {
   "cell_type": "code",
   "execution_count": 49,
   "id": "80fc186b",
   "metadata": {},
   "outputs": [],
   "source": [
    "import pandas as pd\n",
    "import matplotlib.pyplot as plt"
   ]
  },
  {
   "cell_type": "code",
   "execution_count": 50,
   "id": "5dcab7a1",
   "metadata": {},
   "outputs": [
    {
     "name": "stderr",
     "output_type": "stream",
     "text": [
      "C:\\Users\\oussa\\AppData\\Local\\Temp\\ipykernel_41444\\2048551735.py:1: DtypeWarning: Columns (15,16,17,18,19,20,21,22,23,24,25,26,27,28,29,30,31,32,33) have mixed types. Specify dtype option on import or set low_memory=False.\n",
      "  df = pd.read_csv(\"C:/Users/oussa/OneDrive/Bureau/ecommerce2.csv\")\n"
     ]
    }
   ],
   "source": [
    "df = pd.read_csv(\"C:/Users/oussa/OneDrive/Bureau/ecommerce2.csv\")"
   ]
  },
  {
   "cell_type": "code",
   "execution_count": 51,
   "id": "d6bd0f02",
   "metadata": {},
   "outputs": [
    {
     "name": "stdout",
     "output_type": "stream",
     "text": [
      "<class 'pandas.core.frame.DataFrame'>\n",
      "RangeIndex: 55000 entries, 0 to 54999\n",
      "Data columns (total 34 columns):\n",
      " #   Column                 Non-Null Count  Dtype  \n",
      "---  ------                 --------------  -----  \n",
      " 0   CID                    55000 non-null  int64  \n",
      " 1   TID                    55000 non-null  int64  \n",
      " 2   Gender                 55000 non-null  object \n",
      " 3   Age Group              55000 non-null  object \n",
      " 4   Purchase Date          55000 non-null  object \n",
      " 5   Product Category       55000 non-null  object \n",
      " 6   Discount Availed       55000 non-null  object \n",
      " 7   Discount Name          27415 non-null  object \n",
      " 8   Discount Amount (INR)  55000 non-null  float64\n",
      " 9   Gross Amount           55000 non-null  float64\n",
      " 10  Net Amount             55000 non-null  float64\n",
      " 11  Purchase Method        55000 non-null  object \n",
      " 12  Location               55000 non-null  object \n",
      " 13  Unnamed: 13            0 non-null      float64\n",
      " 14  Unnamed: 14            0 non-null      float64\n",
      " 15  Unnamed: 15            25 non-null     object \n",
      " 16  Unnamed: 16            22 non-null     object \n",
      " 17  Unnamed: 17            50 non-null     object \n",
      " 18  Unnamed: 18            47 non-null     object \n",
      " 19  Unnamed: 19            45 non-null     object \n",
      " 20  Unnamed: 20            45 non-null     object \n",
      " 21  Unnamed: 21            45 non-null     object \n",
      " 22  Unnamed: 22            40 non-null     object \n",
      " 23  Unnamed: 23            25 non-null     object \n",
      " 24  Unnamed: 24            40 non-null     object \n",
      " 25  Unnamed: 25            11 non-null     object \n",
      " 26  Unnamed: 26            24 non-null     object \n",
      " 27  Unnamed: 27            10 non-null     object \n",
      " 28  Unnamed: 28            10 non-null     object \n",
      " 29  Unnamed: 29            10 non-null     object \n",
      " 30  Unnamed: 30            10 non-null     object \n",
      " 31  Unnamed: 31            10 non-null     object \n",
      " 32  Unnamed: 32            1 non-null      object \n",
      " 33  Unnamed: 33            10 non-null     object \n",
      "dtypes: float64(5), int64(2), object(27)\n",
      "memory usage: 14.3+ MB\n"
     ]
    }
   ],
   "source": [
    "df.info()"
   ]
  },
  {
   "cell_type": "code",
   "execution_count": 52,
   "id": "02780a24",
   "metadata": {},
   "outputs": [],
   "source": [
    "df = df.drop(['Unnamed: 13', 'Unnamed: 14', 'Unnamed: 15', 'Unnamed: 16', 'Unnamed: 17', 'Unnamed: 18', 'Unnamed: 19', 'Unnamed: 20','Unnamed: 21' ,'Unnamed: 22', 'Unnamed: 23', 'Unnamed: 24', 'Unnamed: 25', 'Unnamed: 26', 'Unnamed: 27', 'Unnamed: 28', 'Unnamed: 29', 'Unnamed: 30', 'Unnamed: 31', 'Unnamed: 32', 'Unnamed: 33'], axis=1) "
   ]
  },
  {
   "cell_type": "code",
   "execution_count": 53,
   "id": "fda5ba80",
   "metadata": {},
   "outputs": [],
   "source": [
    "pd.options.display.max_rows = 15"
   ]
  },
  {
   "cell_type": "code",
   "execution_count": 54,
   "id": "05272b6b",
   "metadata": {},
   "outputs": [],
   "source": [
    "pd.options.display.max_columns = 10"
   ]
  },
  {
   "cell_type": "code",
   "execution_count": 55,
   "id": "3483cdb4",
   "metadata": {},
   "outputs": [
    {
     "data": {
      "text/html": [
       "<div>\n",
       "<style scoped>\n",
       "    .dataframe tbody tr th:only-of-type {\n",
       "        vertical-align: middle;\n",
       "    }\n",
       "\n",
       "    .dataframe tbody tr th {\n",
       "        vertical-align: top;\n",
       "    }\n",
       "\n",
       "    .dataframe thead th {\n",
       "        text-align: right;\n",
       "    }\n",
       "</style>\n",
       "<table border=\"1\" class=\"dataframe\">\n",
       "  <thead>\n",
       "    <tr style=\"text-align: right;\">\n",
       "      <th></th>\n",
       "      <th>CID</th>\n",
       "      <th>TID</th>\n",
       "      <th>Gender</th>\n",
       "      <th>Age Group</th>\n",
       "      <th>Purchase Date</th>\n",
       "      <th>...</th>\n",
       "      <th>Discount Amount (INR)</th>\n",
       "      <th>Gross Amount</th>\n",
       "      <th>Net Amount</th>\n",
       "      <th>Purchase Method</th>\n",
       "      <th>Location</th>\n",
       "    </tr>\n",
       "  </thead>\n",
       "  <tbody>\n",
       "    <tr>\n",
       "      <th>0</th>\n",
       "      <td>943146</td>\n",
       "      <td>5876328741</td>\n",
       "      <td>Female</td>\n",
       "      <td>25-45</td>\n",
       "      <td>30/08/2023 20:27:08</td>\n",
       "      <td>...</td>\n",
       "      <td>64.3</td>\n",
       "      <td>725.3</td>\n",
       "      <td>661.0</td>\n",
       "      <td>Credit Card</td>\n",
       "      <td>Ahmedabad</td>\n",
       "    </tr>\n",
       "  </tbody>\n",
       "</table>\n",
       "<p>1 rows × 13 columns</p>\n",
       "</div>"
      ],
      "text/plain": [
       "      CID         TID  Gender Age Group        Purchase Date  ...  \\\n",
       "0  943146  5876328741  Female     25-45  30/08/2023 20:27:08  ...   \n",
       "\n",
       "  Discount Amount (INR) Gross Amount Net Amount  Purchase Method   Location  \n",
       "0                  64.3        725.3      661.0      Credit Card  Ahmedabad  \n",
       "\n",
       "[1 rows x 13 columns]"
      ]
     },
     "execution_count": 55,
     "metadata": {},
     "output_type": "execute_result"
    }
   ],
   "source": [
    "df.head(1)"
   ]
  },
  {
   "cell_type": "code",
   "execution_count": 56,
   "id": "77881ae7",
   "metadata": {},
   "outputs": [
    {
     "data": {
      "text/html": [
       "<div>\n",
       "<style scoped>\n",
       "    .dataframe tbody tr th:only-of-type {\n",
       "        vertical-align: middle;\n",
       "    }\n",
       "\n",
       "    .dataframe tbody tr th {\n",
       "        vertical-align: top;\n",
       "    }\n",
       "\n",
       "    .dataframe thead th {\n",
       "        text-align: right;\n",
       "    }\n",
       "</style>\n",
       "<table border=\"1\" class=\"dataframe\">\n",
       "  <thead>\n",
       "    <tr style=\"text-align: right;\">\n",
       "      <th></th>\n",
       "      <th>CID</th>\n",
       "      <th>TID</th>\n",
       "      <th>Gender</th>\n",
       "      <th>Age Group</th>\n",
       "      <th>Purchase Date</th>\n",
       "      <th>...</th>\n",
       "      <th>Discount Amount (INR)</th>\n",
       "      <th>Gross Amount</th>\n",
       "      <th>Net Amount</th>\n",
       "      <th>Purchase Method</th>\n",
       "      <th>Location</th>\n",
       "    </tr>\n",
       "  </thead>\n",
       "  <tbody>\n",
       "    <tr>\n",
       "      <th>54995</th>\n",
       "      <td>295864</td>\n",
       "      <td>5407639888</td>\n",
       "      <td>Other</td>\n",
       "      <td>25-45</td>\n",
       "      <td>23/02/2020 10:42:04</td>\n",
       "      <td>...</td>\n",
       "      <td>110.89</td>\n",
       "      <td>2819.91</td>\n",
       "      <td>2709.02</td>\n",
       "      <td>Debit Card</td>\n",
       "      <td>Other</td>\n",
       "    </tr>\n",
       "    <tr>\n",
       "      <th>54996</th>\n",
       "      <td>706435</td>\n",
       "      <td>1144029904</td>\n",
       "      <td>Other</td>\n",
       "      <td>18-25</td>\n",
       "      <td>44537</td>\n",
       "      <td>...</td>\n",
       "      <td>488.59</td>\n",
       "      <td>3891.30</td>\n",
       "      <td>3402.71</td>\n",
       "      <td>Cash on Delivery</td>\n",
       "      <td>Bangalore</td>\n",
       "    </tr>\n",
       "    <tr>\n",
       "      <th>54997</th>\n",
       "      <td>649435</td>\n",
       "      <td>9587323189</td>\n",
       "      <td>Male</td>\n",
       "      <td>45-60</td>\n",
       "      <td>45330</td>\n",
       "      <td>...</td>\n",
       "      <td>417.63</td>\n",
       "      <td>4094.69</td>\n",
       "      <td>3677.06</td>\n",
       "      <td>Credit Card</td>\n",
       "      <td>Mumbai</td>\n",
       "    </tr>\n",
       "    <tr>\n",
       "      <th>54998</th>\n",
       "      <td>982183</td>\n",
       "      <td>5032564481</td>\n",
       "      <td>Female</td>\n",
       "      <td>45-60</td>\n",
       "      <td>43959</td>\n",
       "      <td>...</td>\n",
       "      <td>204.56</td>\n",
       "      <td>3977.47</td>\n",
       "      <td>3772.91</td>\n",
       "      <td>Credit Card</td>\n",
       "      <td>Kolkata</td>\n",
       "    </tr>\n",
       "    <tr>\n",
       "      <th>54999</th>\n",
       "      <td>126691</td>\n",
       "      <td>9172953722</td>\n",
       "      <td>Male</td>\n",
       "      <td>25-45</td>\n",
       "      <td>21/07/2022 09:05:18</td>\n",
       "      <td>...</td>\n",
       "      <td>380.81</td>\n",
       "      <td>3703.58</td>\n",
       "      <td>3322.77</td>\n",
       "      <td>Credit Card</td>\n",
       "      <td>Mumbai</td>\n",
       "    </tr>\n",
       "  </tbody>\n",
       "</table>\n",
       "<p>5 rows × 13 columns</p>\n",
       "</div>"
      ],
      "text/plain": [
       "          CID         TID  Gender Age Group        Purchase Date  ...  \\\n",
       "54995  295864  5407639888   Other     25-45  23/02/2020 10:42:04  ...   \n",
       "54996  706435  1144029904   Other     18-25                44537  ...   \n",
       "54997  649435  9587323189    Male     45-60                45330  ...   \n",
       "54998  982183  5032564481  Female     45-60                43959  ...   \n",
       "54999  126691  9172953722    Male     25-45  21/07/2022 09:05:18  ...   \n",
       "\n",
       "      Discount Amount (INR) Gross Amount Net Amount   Purchase Method  \\\n",
       "54995                110.89      2819.91    2709.02        Debit Card   \n",
       "54996                488.59      3891.30    3402.71  Cash on Delivery   \n",
       "54997                417.63      4094.69    3677.06       Credit Card   \n",
       "54998                204.56      3977.47    3772.91       Credit Card   \n",
       "54999                380.81      3703.58    3322.77       Credit Card   \n",
       "\n",
       "        Location  \n",
       "54995      Other  \n",
       "54996  Bangalore  \n",
       "54997     Mumbai  \n",
       "54998    Kolkata  \n",
       "54999     Mumbai  \n",
       "\n",
       "[5 rows x 13 columns]"
      ]
     },
     "execution_count": 56,
     "metadata": {},
     "output_type": "execute_result"
    }
   ],
   "source": [
    "df.tail()"
   ]
  },
  {
   "cell_type": "code",
   "execution_count": 57,
   "id": "4f47380d",
   "metadata": {},
   "outputs": [
    {
     "data": {
      "text/plain": [
       "(55000, 13)"
      ]
     },
     "execution_count": 57,
     "metadata": {},
     "output_type": "execute_result"
    }
   ],
   "source": [
    "df.shape"
   ]
  },
  {
   "cell_type": "code",
   "execution_count": 58,
   "id": "d80b10ef",
   "metadata": {},
   "outputs": [
    {
     "data": {
      "text/plain": [
       "Index(['CID', 'TID', 'Gender', 'Age Group', 'Purchase Date',\n",
       "       'Product Category', 'Discount Availed', 'Discount Name',\n",
       "       'Discount Amount (INR)', 'Gross Amount', 'Net Amount',\n",
       "       'Purchase Method', 'Location'],\n",
       "      dtype='object')"
      ]
     },
     "execution_count": 58,
     "metadata": {},
     "output_type": "execute_result"
    }
   ],
   "source": [
    "df.columns"
   ]
  },
  {
   "cell_type": "code",
   "execution_count": 59,
   "id": "3019e49a",
   "metadata": {},
   "outputs": [
    {
     "data": {
      "text/plain": [
       "CID                        int64\n",
       "TID                        int64\n",
       "Gender                    object\n",
       "Age Group                 object\n",
       "Purchase Date             object\n",
       "Product Category          object\n",
       "Discount Availed          object\n",
       "Discount Name             object\n",
       "Discount Amount (INR)    float64\n",
       "Gross Amount             float64\n",
       "Net Amount               float64\n",
       "Purchase Method           object\n",
       "Location                  object\n",
       "dtype: object"
      ]
     },
     "execution_count": 59,
     "metadata": {},
     "output_type": "execute_result"
    }
   ],
   "source": [
    "df.dtypes"
   ]
  },
  {
   "cell_type": "markdown",
   "id": "b1a90bca",
   "metadata": {},
   "source": [
    "as you can see the purchase Date is not a date type , we need to change that "
   ]
  },
  {
   "cell_type": "code",
   "execution_count": 60,
   "id": "710a7446",
   "metadata": {},
   "outputs": [
    {
     "data": {
      "text/html": [
       "<div>\n",
       "<style scoped>\n",
       "    .dataframe tbody tr th:only-of-type {\n",
       "        vertical-align: middle;\n",
       "    }\n",
       "\n",
       "    .dataframe tbody tr th {\n",
       "        vertical-align: top;\n",
       "    }\n",
       "\n",
       "    .dataframe thead th {\n",
       "        text-align: right;\n",
       "    }\n",
       "</style>\n",
       "<table border=\"1\" class=\"dataframe\">\n",
       "  <thead>\n",
       "    <tr style=\"text-align: right;\">\n",
       "      <th></th>\n",
       "      <th>CID</th>\n",
       "      <th>TID</th>\n",
       "      <th>Discount Amount (INR)</th>\n",
       "      <th>Gross Amount</th>\n",
       "      <th>Net Amount</th>\n",
       "    </tr>\n",
       "  </thead>\n",
       "  <tbody>\n",
       "    <tr>\n",
       "      <th>count</th>\n",
       "      <td>55000.000000</td>\n",
       "      <td>5.500000e+04</td>\n",
       "      <td>55000.000000</td>\n",
       "      <td>55000.000000</td>\n",
       "      <td>55000.000000</td>\n",
       "    </tr>\n",
       "    <tr>\n",
       "      <th>mean</th>\n",
       "      <td>551245.593891</td>\n",
       "      <td>5.504740e+09</td>\n",
       "      <td>136.986796</td>\n",
       "      <td>3012.936779</td>\n",
       "      <td>2878.400407</td>\n",
       "    </tr>\n",
       "    <tr>\n",
       "      <th>std</th>\n",
       "      <td>260603.330337</td>\n",
       "      <td>2.594534e+09</td>\n",
       "      <td>165.375502</td>\n",
       "      <td>1718.431064</td>\n",
       "      <td>1722.038399</td>\n",
       "    </tr>\n",
       "    <tr>\n",
       "      <th>min</th>\n",
       "      <td>100009.000000</td>\n",
       "      <td>1.000163e+09</td>\n",
       "      <td>0.000000</td>\n",
       "      <td>136.450000</td>\n",
       "      <td>0.330000</td>\n",
       "    </tr>\n",
       "    <tr>\n",
       "      <th>25%</th>\n",
       "      <td>323717.000000</td>\n",
       "      <td>3.252604e+09</td>\n",
       "      <td>0.000000</td>\n",
       "      <td>1562.112500</td>\n",
       "      <td>1429.555000</td>\n",
       "    </tr>\n",
       "    <tr>\n",
       "      <th>50%</th>\n",
       "      <td>550088.500000</td>\n",
       "      <td>5.498383e+09</td>\n",
       "      <td>0.000000</td>\n",
       "      <td>2954.265000</td>\n",
       "      <td>2814.910000</td>\n",
       "    </tr>\n",
       "    <tr>\n",
       "      <th>75%</th>\n",
       "      <td>776955.750000</td>\n",
       "      <td>7.747933e+09</td>\n",
       "      <td>274.115000</td>\n",
       "      <td>4342.225000</td>\n",
       "      <td>4211.410000</td>\n",
       "    </tr>\n",
       "    <tr>\n",
       "      <th>max</th>\n",
       "      <td>999996.000000</td>\n",
       "      <td>9.999393e+09</td>\n",
       "      <td>500.000000</td>\n",
       "      <td>8394.830000</td>\n",
       "      <td>8394.830000</td>\n",
       "    </tr>\n",
       "  </tbody>\n",
       "</table>\n",
       "</div>"
      ],
      "text/plain": [
       "                 CID           TID  Discount Amount (INR)  Gross Amount  \\\n",
       "count   55000.000000  5.500000e+04           55000.000000  55000.000000   \n",
       "mean   551245.593891  5.504740e+09             136.986796   3012.936779   \n",
       "std    260603.330337  2.594534e+09             165.375502   1718.431064   \n",
       "min    100009.000000  1.000163e+09               0.000000    136.450000   \n",
       "25%    323717.000000  3.252604e+09               0.000000   1562.112500   \n",
       "50%    550088.500000  5.498383e+09               0.000000   2954.265000   \n",
       "75%    776955.750000  7.747933e+09             274.115000   4342.225000   \n",
       "max    999996.000000  9.999393e+09             500.000000   8394.830000   \n",
       "\n",
       "         Net Amount  \n",
       "count  55000.000000  \n",
       "mean    2878.400407  \n",
       "std     1722.038399  \n",
       "min        0.330000  \n",
       "25%     1429.555000  \n",
       "50%     2814.910000  \n",
       "75%     4211.410000  \n",
       "max     8394.830000  "
      ]
     },
     "execution_count": 60,
     "metadata": {},
     "output_type": "execute_result"
    }
   ],
   "source": [
    "df.describe()"
   ]
  },
  {
   "cell_type": "code",
   "execution_count": 108,
   "id": "f6a5e74c",
   "metadata": {},
   "outputs": [],
   "source": [
    "df['Purchase Date'] = pd.to_datetime(df['Purchase Date'], format='%d/%m/%Y %H:%M:%S',errors='coerce')"
   ]
  },
  {
   "cell_type": "code",
   "execution_count": 109,
   "id": "a9e48939",
   "metadata": {},
   "outputs": [
    {
     "data": {
      "text/plain": [
       "CID                               int64\n",
       "TID                               int64\n",
       "Gender                           object\n",
       "Age category                     object\n",
       "Purchase Date            datetime64[ns]\n",
       "Product Category                 object\n",
       "Discount Availed                 object\n",
       "Discount Name                    object\n",
       "Discount Amount (INR)           float64\n",
       "Gross Amount                    float64\n",
       "Net Amount                      float64\n",
       "Purchase Method                  object\n",
       "Location                         object\n",
       "dtype: object"
      ]
     },
     "execution_count": 109,
     "metadata": {},
     "output_type": "execute_result"
    }
   ],
   "source": [
    "df.dtypes"
   ]
  },
  {
   "cell_type": "code",
   "execution_count": 75,
   "id": "ffc15e46",
   "metadata": {},
   "outputs": [
    {
     "data": {
      "text/html": [
       "<div>\n",
       "<style scoped>\n",
       "    .dataframe tbody tr th:only-of-type {\n",
       "        vertical-align: middle;\n",
       "    }\n",
       "\n",
       "    .dataframe tbody tr th {\n",
       "        vertical-align: top;\n",
       "    }\n",
       "\n",
       "    .dataframe thead th {\n",
       "        text-align: right;\n",
       "    }\n",
       "</style>\n",
       "<table border=\"1\" class=\"dataframe\">\n",
       "  <thead>\n",
       "    <tr style=\"text-align: right;\">\n",
       "      <th></th>\n",
       "      <th>CID</th>\n",
       "      <th>TID</th>\n",
       "      <th>Discount Amount (INR)</th>\n",
       "      <th>Gross Amount</th>\n",
       "      <th>Net Amount</th>\n",
       "    </tr>\n",
       "  </thead>\n",
       "  <tbody>\n",
       "    <tr>\n",
       "      <th>count</th>\n",
       "      <td>55000.000000</td>\n",
       "      <td>5.500000e+04</td>\n",
       "      <td>55000.000000</td>\n",
       "      <td>55000.000000</td>\n",
       "      <td>55000.000000</td>\n",
       "    </tr>\n",
       "    <tr>\n",
       "      <th>mean</th>\n",
       "      <td>551245.593891</td>\n",
       "      <td>5.504740e+09</td>\n",
       "      <td>136.986796</td>\n",
       "      <td>3012.936779</td>\n",
       "      <td>2878.400407</td>\n",
       "    </tr>\n",
       "    <tr>\n",
       "      <th>std</th>\n",
       "      <td>260603.330337</td>\n",
       "      <td>2.594534e+09</td>\n",
       "      <td>165.375502</td>\n",
       "      <td>1718.431064</td>\n",
       "      <td>1722.038399</td>\n",
       "    </tr>\n",
       "    <tr>\n",
       "      <th>min</th>\n",
       "      <td>100009.000000</td>\n",
       "      <td>1.000163e+09</td>\n",
       "      <td>0.000000</td>\n",
       "      <td>136.450000</td>\n",
       "      <td>0.330000</td>\n",
       "    </tr>\n",
       "    <tr>\n",
       "      <th>25%</th>\n",
       "      <td>323717.000000</td>\n",
       "      <td>3.252604e+09</td>\n",
       "      <td>0.000000</td>\n",
       "      <td>1562.112500</td>\n",
       "      <td>1429.555000</td>\n",
       "    </tr>\n",
       "    <tr>\n",
       "      <th>50%</th>\n",
       "      <td>550088.500000</td>\n",
       "      <td>5.498383e+09</td>\n",
       "      <td>0.000000</td>\n",
       "      <td>2954.265000</td>\n",
       "      <td>2814.910000</td>\n",
       "    </tr>\n",
       "    <tr>\n",
       "      <th>75%</th>\n",
       "      <td>776955.750000</td>\n",
       "      <td>7.747933e+09</td>\n",
       "      <td>274.115000</td>\n",
       "      <td>4342.225000</td>\n",
       "      <td>4211.410000</td>\n",
       "    </tr>\n",
       "    <tr>\n",
       "      <th>max</th>\n",
       "      <td>999996.000000</td>\n",
       "      <td>9.999393e+09</td>\n",
       "      <td>500.000000</td>\n",
       "      <td>8394.830000</td>\n",
       "      <td>8394.830000</td>\n",
       "    </tr>\n",
       "  </tbody>\n",
       "</table>\n",
       "</div>"
      ],
      "text/plain": [
       "                 CID           TID  Discount Amount (INR)  Gross Amount  \\\n",
       "count   55000.000000  5.500000e+04           55000.000000  55000.000000   \n",
       "mean   551245.593891  5.504740e+09             136.986796   3012.936779   \n",
       "std    260603.330337  2.594534e+09             165.375502   1718.431064   \n",
       "min    100009.000000  1.000163e+09               0.000000    136.450000   \n",
       "25%    323717.000000  3.252604e+09               0.000000   1562.112500   \n",
       "50%    550088.500000  5.498383e+09               0.000000   2954.265000   \n",
       "75%    776955.750000  7.747933e+09             274.115000   4342.225000   \n",
       "max    999996.000000  9.999393e+09             500.000000   8394.830000   \n",
       "\n",
       "         Net Amount  \n",
       "count  55000.000000  \n",
       "mean    2878.400407  \n",
       "std     1722.038399  \n",
       "min        0.330000  \n",
       "25%     1429.555000  \n",
       "50%     2814.910000  \n",
       "75%     4211.410000  \n",
       "max     8394.830000  "
      ]
     },
     "execution_count": 75,
     "metadata": {},
     "output_type": "execute_result"
    }
   ],
   "source": [
    "df.describe()"
   ]
  },
  {
   "cell_type": "code",
   "execution_count": 76,
   "id": "84a97c30",
   "metadata": {},
   "outputs": [
    {
     "data": {
      "text/html": [
       "<div>\n",
       "<style scoped>\n",
       "    .dataframe tbody tr th:only-of-type {\n",
       "        vertical-align: middle;\n",
       "    }\n",
       "\n",
       "    .dataframe tbody tr th {\n",
       "        vertical-align: top;\n",
       "    }\n",
       "\n",
       "    .dataframe thead th {\n",
       "        text-align: right;\n",
       "    }\n",
       "</style>\n",
       "<table border=\"1\" class=\"dataframe\">\n",
       "  <thead>\n",
       "    <tr style=\"text-align: right;\">\n",
       "      <th></th>\n",
       "      <th>Gender</th>\n",
       "      <th>Age Group</th>\n",
       "      <th>Purchase Date</th>\n",
       "      <th>Product Category</th>\n",
       "      <th>Discount Availed</th>\n",
       "      <th>Discount Name</th>\n",
       "      <th>Purchase Method</th>\n",
       "      <th>Location</th>\n",
       "    </tr>\n",
       "  </thead>\n",
       "  <tbody>\n",
       "    <tr>\n",
       "      <th>count</th>\n",
       "      <td>55000</td>\n",
       "      <td>55000</td>\n",
       "      <td>55000</td>\n",
       "      <td>55000</td>\n",
       "      <td>55000</td>\n",
       "      <td>27415</td>\n",
       "      <td>55000</td>\n",
       "      <td>55000</td>\n",
       "    </tr>\n",
       "    <tr>\n",
       "      <th>unique</th>\n",
       "      <td>3</td>\n",
       "      <td>5</td>\n",
       "      <td>34019</td>\n",
       "      <td>9</td>\n",
       "      <td>2</td>\n",
       "      <td>5</td>\n",
       "      <td>8</td>\n",
       "      <td>14</td>\n",
       "    </tr>\n",
       "    <tr>\n",
       "      <th>top</th>\n",
       "      <td>Female</td>\n",
       "      <td>25-45</td>\n",
       "      <td>44176</td>\n",
       "      <td>Electronics</td>\n",
       "      <td>No</td>\n",
       "      <td>NEWYEARS</td>\n",
       "      <td>Credit Card</td>\n",
       "      <td>Mumbai</td>\n",
       "    </tr>\n",
       "    <tr>\n",
       "      <th>freq</th>\n",
       "      <td>18454</td>\n",
       "      <td>22010</td>\n",
       "      <td>48</td>\n",
       "      <td>16574</td>\n",
       "      <td>27585</td>\n",
       "      <td>8135</td>\n",
       "      <td>22096</td>\n",
       "      <td>11197</td>\n",
       "    </tr>\n",
       "  </tbody>\n",
       "</table>\n",
       "</div>"
      ],
      "text/plain": [
       "        Gender Age Group Purchase Date Product Category Discount Availed  \\\n",
       "count    55000     55000         55000            55000            55000   \n",
       "unique       3         5         34019                9                2   \n",
       "top     Female     25-45         44176      Electronics               No   \n",
       "freq     18454     22010            48            16574            27585   \n",
       "\n",
       "       Discount Name Purchase Method Location  \n",
       "count          27415           55000    55000  \n",
       "unique             5               8       14  \n",
       "top         NEWYEARS     Credit Card   Mumbai  \n",
       "freq            8135           22096    11197  "
      ]
     },
     "execution_count": 76,
     "metadata": {},
     "output_type": "execute_result"
    }
   ],
   "source": [
    "df.describe(include='object')"
   ]
  },
  {
   "cell_type": "code",
   "execution_count": 77,
   "id": "aefce26b",
   "metadata": {},
   "outputs": [
    {
     "data": {
      "text/html": [
       "<div>\n",
       "<style scoped>\n",
       "    .dataframe tbody tr th:only-of-type {\n",
       "        vertical-align: middle;\n",
       "    }\n",
       "\n",
       "    .dataframe tbody tr th {\n",
       "        vertical-align: top;\n",
       "    }\n",
       "\n",
       "    .dataframe thead th {\n",
       "        text-align: right;\n",
       "    }\n",
       "</style>\n",
       "<table border=\"1\" class=\"dataframe\">\n",
       "  <thead>\n",
       "    <tr style=\"text-align: right;\">\n",
       "      <th></th>\n",
       "      <th>CID</th>\n",
       "      <th>TID</th>\n",
       "      <th>Gender</th>\n",
       "      <th>Age Group</th>\n",
       "      <th>Purchase Date</th>\n",
       "      <th>...</th>\n",
       "      <th>Discount Amount (INR)</th>\n",
       "      <th>Gross Amount</th>\n",
       "      <th>Net Amount</th>\n",
       "      <th>Purchase Method</th>\n",
       "      <th>Location</th>\n",
       "    </tr>\n",
       "  </thead>\n",
       "  <tbody>\n",
       "    <tr>\n",
       "      <th>0</th>\n",
       "      <td>943146</td>\n",
       "      <td>5876328741</td>\n",
       "      <td>Female</td>\n",
       "      <td>25-45</td>\n",
       "      <td>30/08/2023 20:27:08</td>\n",
       "      <td>...</td>\n",
       "      <td>64.30</td>\n",
       "      <td>725.30</td>\n",
       "      <td>661.00</td>\n",
       "      <td>Credit Card</td>\n",
       "      <td>Ahmedabad</td>\n",
       "    </tr>\n",
       "    <tr>\n",
       "      <th>1</th>\n",
       "      <td>180079</td>\n",
       "      <td>1018503182</td>\n",
       "      <td>Male</td>\n",
       "      <td>25-45</td>\n",
       "      <td>23/02/2024 09:33:46</td>\n",
       "      <td>...</td>\n",
       "      <td>175.19</td>\n",
       "      <td>4638.99</td>\n",
       "      <td>4463.80</td>\n",
       "      <td>Credit Card</td>\n",
       "      <td>Bangalore</td>\n",
       "    </tr>\n",
       "    <tr>\n",
       "      <th>2</th>\n",
       "      <td>337580</td>\n",
       "      <td>3814082218</td>\n",
       "      <td>Other</td>\n",
       "      <td>60 and above</td>\n",
       "      <td>44715</td>\n",
       "      <td>...</td>\n",
       "      <td>211.54</td>\n",
       "      <td>1986.37</td>\n",
       "      <td>1774.83</td>\n",
       "      <td>Credit Card</td>\n",
       "      <td>Delhi</td>\n",
       "    </tr>\n",
       "    <tr>\n",
       "      <th>3</th>\n",
       "      <td>180333</td>\n",
       "      <td>1395204173</td>\n",
       "      <td>Other</td>\n",
       "      <td>60 and above</td>\n",
       "      <td>43932</td>\n",
       "      <td>...</td>\n",
       "      <td>0.00</td>\n",
       "      <td>5695.61</td>\n",
       "      <td>5695.61</td>\n",
       "      <td>Debit Card</td>\n",
       "      <td>Delhi</td>\n",
       "    </tr>\n",
       "    <tr>\n",
       "      <th>4</th>\n",
       "      <td>447553</td>\n",
       "      <td>8009390577</td>\n",
       "      <td>Male</td>\n",
       "      <td>18-25</td>\n",
       "      <td>31/05/2022 17:00:32</td>\n",
       "      <td>...</td>\n",
       "      <td>439.92</td>\n",
       "      <td>2292.65</td>\n",
       "      <td>1852.73</td>\n",
       "      <td>Credit Card</td>\n",
       "      <td>Delhi</td>\n",
       "    </tr>\n",
       "    <tr>\n",
       "      <th>...</th>\n",
       "      <td>...</td>\n",
       "      <td>...</td>\n",
       "      <td>...</td>\n",
       "      <td>...</td>\n",
       "      <td>...</td>\n",
       "      <td>...</td>\n",
       "      <td>...</td>\n",
       "      <td>...</td>\n",
       "      <td>...</td>\n",
       "      <td>...</td>\n",
       "      <td>...</td>\n",
       "    </tr>\n",
       "    <tr>\n",
       "      <th>54995</th>\n",
       "      <td>295864</td>\n",
       "      <td>5407639888</td>\n",
       "      <td>Other</td>\n",
       "      <td>25-45</td>\n",
       "      <td>23/02/2020 10:42:04</td>\n",
       "      <td>...</td>\n",
       "      <td>110.89</td>\n",
       "      <td>2819.91</td>\n",
       "      <td>2709.02</td>\n",
       "      <td>Debit Card</td>\n",
       "      <td>Other</td>\n",
       "    </tr>\n",
       "    <tr>\n",
       "      <th>54996</th>\n",
       "      <td>706435</td>\n",
       "      <td>1144029904</td>\n",
       "      <td>Other</td>\n",
       "      <td>18-25</td>\n",
       "      <td>44537</td>\n",
       "      <td>...</td>\n",
       "      <td>488.59</td>\n",
       "      <td>3891.30</td>\n",
       "      <td>3402.71</td>\n",
       "      <td>Cash on Delivery</td>\n",
       "      <td>Bangalore</td>\n",
       "    </tr>\n",
       "    <tr>\n",
       "      <th>54997</th>\n",
       "      <td>649435</td>\n",
       "      <td>9587323189</td>\n",
       "      <td>Male</td>\n",
       "      <td>45-60</td>\n",
       "      <td>45330</td>\n",
       "      <td>...</td>\n",
       "      <td>417.63</td>\n",
       "      <td>4094.69</td>\n",
       "      <td>3677.06</td>\n",
       "      <td>Credit Card</td>\n",
       "      <td>Mumbai</td>\n",
       "    </tr>\n",
       "    <tr>\n",
       "      <th>54998</th>\n",
       "      <td>982183</td>\n",
       "      <td>5032564481</td>\n",
       "      <td>Female</td>\n",
       "      <td>45-60</td>\n",
       "      <td>43959</td>\n",
       "      <td>...</td>\n",
       "      <td>204.56</td>\n",
       "      <td>3977.47</td>\n",
       "      <td>3772.91</td>\n",
       "      <td>Credit Card</td>\n",
       "      <td>Kolkata</td>\n",
       "    </tr>\n",
       "    <tr>\n",
       "      <th>54999</th>\n",
       "      <td>126691</td>\n",
       "      <td>9172953722</td>\n",
       "      <td>Male</td>\n",
       "      <td>25-45</td>\n",
       "      <td>21/07/2022 09:05:18</td>\n",
       "      <td>...</td>\n",
       "      <td>380.81</td>\n",
       "      <td>3703.58</td>\n",
       "      <td>3322.77</td>\n",
       "      <td>Credit Card</td>\n",
       "      <td>Mumbai</td>\n",
       "    </tr>\n",
       "  </tbody>\n",
       "</table>\n",
       "<p>55000 rows × 13 columns</p>\n",
       "</div>"
      ],
      "text/plain": [
       "          CID         TID  Gender     Age Group        Purchase Date  ...  \\\n",
       "0      943146  5876328741  Female         25-45  30/08/2023 20:27:08  ...   \n",
       "1      180079  1018503182    Male         25-45  23/02/2024 09:33:46  ...   \n",
       "2      337580  3814082218   Other  60 and above                44715  ...   \n",
       "3      180333  1395204173   Other  60 and above                43932  ...   \n",
       "4      447553  8009390577    Male         18-25  31/05/2022 17:00:32  ...   \n",
       "...       ...         ...     ...           ...                  ...  ...   \n",
       "54995  295864  5407639888   Other         25-45  23/02/2020 10:42:04  ...   \n",
       "54996  706435  1144029904   Other         18-25                44537  ...   \n",
       "54997  649435  9587323189    Male         45-60                45330  ...   \n",
       "54998  982183  5032564481  Female         45-60                43959  ...   \n",
       "54999  126691  9172953722    Male         25-45  21/07/2022 09:05:18  ...   \n",
       "\n",
       "      Discount Amount (INR) Gross Amount Net Amount   Purchase Method  \\\n",
       "0                     64.30       725.30     661.00       Credit Card   \n",
       "1                    175.19      4638.99    4463.80       Credit Card   \n",
       "2                    211.54      1986.37    1774.83       Credit Card   \n",
       "3                      0.00      5695.61    5695.61        Debit Card   \n",
       "4                    439.92      2292.65    1852.73       Credit Card   \n",
       "...                     ...          ...        ...               ...   \n",
       "54995                110.89      2819.91    2709.02        Debit Card   \n",
       "54996                488.59      3891.30    3402.71  Cash on Delivery   \n",
       "54997                417.63      4094.69    3677.06       Credit Card   \n",
       "54998                204.56      3977.47    3772.91       Credit Card   \n",
       "54999                380.81      3703.58    3322.77       Credit Card   \n",
       "\n",
       "        Location  \n",
       "0      Ahmedabad  \n",
       "1      Bangalore  \n",
       "2          Delhi  \n",
       "3          Delhi  \n",
       "4          Delhi  \n",
       "...          ...  \n",
       "54995      Other  \n",
       "54996  Bangalore  \n",
       "54997     Mumbai  \n",
       "54998    Kolkata  \n",
       "54999     Mumbai  \n",
       "\n",
       "[55000 rows x 13 columns]"
      ]
     },
     "execution_count": 77,
     "metadata": {},
     "output_type": "execute_result"
    }
   ],
   "source": [
    "df"
   ]
  },
  {
   "cell_type": "code",
   "execution_count": 78,
   "id": "02f4b58c",
   "metadata": {},
   "outputs": [],
   "source": [
    "df = df.rename(columns = {'Age Group' :'Age category'})"
   ]
  },
  {
   "cell_type": "code",
   "execution_count": 79,
   "id": "4da90408",
   "metadata": {},
   "outputs": [
    {
     "data": {
      "text/plain": [
       "0              FESTIVE50\n",
       "1        SEASONALOFFER21\n",
       "2        SEASONALOFFER21\n",
       "3                    NaN\n",
       "4               WELCOME5\n",
       "              ...       \n",
       "54995    SEASONALOFFER21\n",
       "54996    SEASONALOFFER21\n",
       "54997           NEWYEARS\n",
       "54998    SEASONALOFFER21\n",
       "54999           NEWYEARS\n",
       "Name: Discount Name, Length: 55000, dtype: object"
      ]
     },
     "execution_count": 79,
     "metadata": {},
     "output_type": "execute_result"
    }
   ],
   "source": [
    "df['Discount Name']"
   ]
  },
  {
   "cell_type": "code",
   "execution_count": 80,
   "id": "a14adb8e",
   "metadata": {},
   "outputs": [
    {
     "data": {
      "text/plain": [
       "CID                          0\n",
       "TID                          0\n",
       "Gender                       0\n",
       "Age category                 0\n",
       "Purchase Date                0\n",
       "Product Category             0\n",
       "Discount Availed             0\n",
       "Discount Name            27585\n",
       "Discount Amount (INR)        0\n",
       "Gross Amount                 0\n",
       "Net Amount                   0\n",
       "Purchase Method              0\n",
       "Location                     0\n",
       "dtype: int64"
      ]
     },
     "execution_count": 80,
     "metadata": {},
     "output_type": "execute_result"
    }
   ],
   "source": [
    "df.isna().sum()"
   ]
  },
  {
   "cell_type": "code",
   "execution_count": 81,
   "id": "72ba77d5",
   "metadata": {},
   "outputs": [
    {
     "data": {
      "text/plain": [
       "0"
      ]
     },
     "execution_count": 81,
     "metadata": {},
     "output_type": "execute_result"
    }
   ],
   "source": [
    "df.duplicated().sum()"
   ]
  },
  {
   "cell_type": "code",
   "execution_count": 82,
   "id": "be49ad6b",
   "metadata": {},
   "outputs": [
    {
     "data": {
      "text/plain": [
       "Gender\n",
       "Female    18454\n",
       "Other     18450\n",
       "Male      18096\n",
       "Name: count, dtype: int64"
      ]
     },
     "execution_count": 82,
     "metadata": {},
     "output_type": "execute_result"
    }
   ],
   "source": [
    "genderCounts = df['Gender'].value_counts()\n",
    "genderCounts"
   ]
  },
  {
   "cell_type": "code",
   "execution_count": 83,
   "id": "98b3319d",
   "metadata": {},
   "outputs": [
    {
     "data": {
      "text/plain": [
       "Age category\n",
       "25-45           22010\n",
       "18-25           16431\n",
       "45-60           11104\n",
       "under 18         2771\n",
       "60 and above     2684\n",
       "Name: count, dtype: int64"
      ]
     },
     "execution_count": 83,
     "metadata": {},
     "output_type": "execute_result"
    }
   ],
   "source": [
    "AgeGroupe = df['Age category'].value_counts()\n",
    "AgeGroupe"
   ]
  },
  {
   "cell_type": "code",
   "execution_count": 84,
   "id": "1657db04",
   "metadata": {},
   "outputs": [
    {
     "data": {
      "text/plain": [
       "Product Category\n",
       "Electronics          16574\n",
       "Clothing             10968\n",
       "Beauty and Health     8332\n",
       "Sports & Fitness      5557\n",
       "Home & Kitchen        5489\n",
       "Books                 2762\n",
       "Other                 2171\n",
       "Pet Care              1618\n",
       "Toys & Games          1529\n",
       "Name: count, dtype: int64"
      ]
     },
     "execution_count": 84,
     "metadata": {},
     "output_type": "execute_result"
    }
   ],
   "source": [
    "ProductCategoryCounts = df['Product Category'].value_counts()\n",
    "ProductCategoryCounts"
   ]
  },
  {
   "cell_type": "code",
   "execution_count": 85,
   "id": "e6e28add",
   "metadata": {},
   "outputs": [
    {
     "name": "stdout",
     "output_type": "stream",
     "text": [
      "Product Category\n",
      "Electronics          8704\n",
      "Clothing             5787\n",
      "Beauty and Health    4407\n",
      "Sports & Fitness     2924\n",
      "Home & Kitchen       2901\n",
      "Books                1457\n",
      "Other                1187\n",
      "Pet Care              858\n",
      "Toys & Games          846\n",
      "Name: count, dtype: int64\n"
     ]
    }
   ],
   "source": [
    "# Keep only the first occurrence of each unique ID\n",
    "unique_df = df.drop_duplicates(subset='CID')\n",
    "\n",
    "# Count the occurrences of each Product Category\n",
    "product_category_counts = unique_df['Product Category'].value_counts()\n",
    "\n",
    "print(product_category_counts)"
   ]
  },
  {
   "cell_type": "code",
   "execution_count": 86,
   "id": "d574b5cb",
   "metadata": {},
   "outputs": [
    {
     "name": "stdout",
     "output_type": "stream",
     "text": [
      "Product Category\n",
      "Electronics          168\n",
      "Clothing             135\n",
      "Beauty and Health    100\n",
      "Sports & Fitness      80\n",
      "Home & Kitchen        56\n",
      "Books                 29\n",
      "Other                 22\n",
      "Toys & Games          17\n",
      "Pet Care               8\n",
      "Name: count, dtype: int64\n"
     ]
    }
   ],
   "source": [
    "# Unique IDs with additional condition (e.g., Sales > 100)\n",
    "filtered_unique_df = df[df['Gross Amount'] > 7000].drop_duplicates(subset='CID')\n",
    "\n",
    "# Count the occurrences of each Product Category\n",
    "filtered_category_counts = filtered_unique_df['Product Category'].value_counts()\n",
    "\n",
    "print(filtered_category_counts)"
   ]
  },
  {
   "cell_type": "code",
   "execution_count": 87,
   "id": "9a5e5e3a",
   "metadata": {},
   "outputs": [
    {
     "data": {
      "text/plain": [
       "Index(['CID', 'TID', 'Gender', 'Age category', 'Purchase Date',\n",
       "       'Product Category', 'Discount Availed', 'Discount Name',\n",
       "       'Discount Amount (INR)', 'Gross Amount', 'Net Amount',\n",
       "       'Purchase Method', 'Location'],\n",
       "      dtype='object')"
      ]
     },
     "execution_count": 87,
     "metadata": {},
     "output_type": "execute_result"
    }
   ],
   "source": [
    "df.columns"
   ]
  },
  {
   "cell_type": "code",
   "execution_count": 88,
   "id": "364eb7e0",
   "metadata": {},
   "outputs": [
    {
     "data": {
      "text/plain": [
       "Product Category\n",
       "Electronics          5402\n",
       "Clothing             3555\n",
       "Beauty and Health    2681\n",
       "Home & Kitchen       1838\n",
       "Sports & Fitness     1786\n",
       "Books                 927\n",
       "Other                 743\n",
       "Toys & Games          515\n",
       "Pet Care              489\n",
       "Name: count, dtype: int64"
      ]
     },
     "execution_count": 88,
     "metadata": {},
     "output_type": "execute_result"
    }
   ],
   "source": [
    "dfss = df[df['Discount Amount (INR)'] > 100].drop_duplicates(subset ='CID')\n",
    "dfss['Product Category'].value_counts()"
   ]
  },
  {
   "cell_type": "code",
   "execution_count": 89,
   "id": "c75be898",
   "metadata": {},
   "outputs": [
    {
     "data": {
      "text/plain": [
       "Purchase Method\n",
       "Credit Card           22096\n",
       "Debit Card            13809\n",
       "Net Banking            5485\n",
       "International Card     2815\n",
       "Cash on Delivery       2768\n",
       "PhonePe UPI            2683\n",
       "Paytm UPI              2674\n",
       "Google Pay UPI         2670\n",
       "Name: count, dtype: int64"
      ]
     },
     "execution_count": 89,
     "metadata": {},
     "output_type": "execute_result"
    }
   ],
   "source": [
    "paymentMethodeCounts = df['Purchase Method'].value_counts()\n",
    "paymentMethodeCounts"
   ]
  },
  {
   "cell_type": "code",
   "execution_count": 90,
   "id": "57011441",
   "metadata": {},
   "outputs": [
    {
     "data": {
      "text/plain": [
       "Location\n",
       "Mumbai       11197\n",
       "Delhi        10799\n",
       "Bangalore     8249\n",
       "Hyderabad     5545\n",
       "Chennai       4368\n",
       "Pune          3781\n",
       "Ahmedabad     2785\n",
       "Kolkata       2709\n",
       "Jaipur        1678\n",
       "Lucknow       1136\n",
       "Other         1046\n",
       "Varanasi       606\n",
       "Dehradun       553\n",
       "Srinagar       548\n",
       "Name: count, dtype: int64"
      ]
     },
     "execution_count": 90,
     "metadata": {},
     "output_type": "execute_result"
    }
   ],
   "source": [
    "locationCounts = df['Location'].value_counts()\n",
    "locationCounts"
   ]
  },
  {
   "cell_type": "code",
   "execution_count": 91,
   "id": "c694753f",
   "metadata": {},
   "outputs": [
    {
     "data": {
      "text/plain": [
       "Text(0, 0.5, 'Count')"
      ]
     },
     "execution_count": 91,
     "metadata": {},
     "output_type": "execute_result"
    },
    {
     "data": {
      "image/png": "[encoded data removed]",
      "text/plain": [
       "<Figure size 800x1400 with 1 Axes>"
      ]
     },
     "metadata": {},
     "output_type": "display_data"
    }
   ],
   "source": [
    "plt.figure(figsize=(8,14))\n",
    "plt.subplot(2,2,1)\n",
    "genderCounts.plot(kind='bar' , color='skyblue')\n",
    "plt.title(\"Gender Destribution\")\n",
    "plt.ylabel('Count')\n"
   ]
  },
  {
   "cell_type": "code",
   "execution_count": 92,
   "id": "88346db3",
   "metadata": {},
   "outputs": [
    {
     "data": {
      "text/plain": [
       "Text(0, 0.5, 'Counts')"
      ]
     },
     "execution_count": 92,
     "metadata": {},
     "output_type": "execute_result"
    },
    {
     "data": {
      "image/png": "[encoded data removed]",
      "text/plain": [
       "<Figure size 1400x800 with 1 Axes>"
      ]
     },
     "metadata": {},
     "output_type": "display_data"
    }
   ],
   "source": [
    "plt.figure(figsize=(14,8))\n",
    "plt.subplot(2,2,2)\n",
    "ProductCategoryCounts.plot(kind='bar' , color ='lightgreen')\n",
    "plt.title('Product Category Destribution')\n",
    "plt.ylabel('Counts')\n"
   ]
  },
  {
   "cell_type": "code",
   "execution_count": 93,
   "id": "481a0371",
   "metadata": {},
   "outputs": [
    {
     "data": {
      "text/plain": [
       "Text(0, 0.5, 'Counts')"
      ]
     },
     "execution_count": 93,
     "metadata": {},
     "output_type": "execute_result"
    },
    {
     "data": {
      "image/png": "[encoded data removed]",
      "text/plain": [
       "<Figure size 1400x800 with 1 Axes>"
      ]
     },
     "metadata": {},
     "output_type": "display_data"
    }
   ],
   "source": [
    "plt.figure(figsize=(14,8))\n",
    "plt.subplot(2,2,3)\n",
    "paymentMethodeCounts.plot(kind='bar' , color ='navy')\n",
    "plt.title('Product Category Destribution')\n",
    "plt.ylabel('Counts')\n",
    "\n"
   ]
  },
  {
   "cell_type": "code",
   "execution_count": 94,
   "id": "97d851b2",
   "metadata": {},
   "outputs": [
    {
     "data": {
      "text/plain": [
       "Text(0, 0.5, 'Counts')"
      ]
     },
     "execution_count": 94,
     "metadata": {},
     "output_type": "execute_result"
    },
    {
     "data": {
      "image/png": "[encoded data removed]",
      "text/plain": [
       "<Figure size 1400x800 with 1 Axes>"
      ]
     },
     "metadata": {},
     "output_type": "display_data"
    }
   ],
   "source": [
    "plt.figure(figsize=(14,8))\n",
    "plt.subplot(2,2,4)\n",
    "locationCounts.plot(kind='bar' , color ='lightcoral')\n",
    "plt.title('Product Category Destribution')\n",
    "plt.ylabel('Counts')"
   ]
  },
  {
   "cell_type": "code",
   "execution_count": 104,
   "id": "dc430429",
   "metadata": {},
   "outputs": [
    {
     "data": {
      "text/plain": [
       "Index(['CID', 'TID', 'Gender', 'Age category', 'Purchase Date',\n",
       "       'Product Category', 'Discount Availed', 'Discount Name',\n",
       "       'Discount Amount (INR)', 'Gross Amount', 'Net Amount',\n",
       "       'Purchase Method', 'Location'],\n",
       "      dtype='object')"
      ]
     },
     "execution_count": 104,
     "metadata": {},
     "output_type": "execute_result"
    }
   ],
   "source": [
    "df.columns"
   ]
  },
  {
   "cell_type": "code",
   "execution_count": 106,
   "id": "1c64adbb",
   "metadata": {},
   "outputs": [
    {
     "data": {
      "text/html": [
       "<div>\n",
       "<style scoped>\n",
       "    .dataframe tbody tr th:only-of-type {\n",
       "        vertical-align: middle;\n",
       "    }\n",
       "\n",
       "    .dataframe tbody tr th {\n",
       "        vertical-align: top;\n",
       "    }\n",
       "\n",
       "    .dataframe thead th {\n",
       "        text-align: right;\n",
       "    }\n",
       "</style>\n",
       "<table border=\"1\" class=\"dataframe\">\n",
       "  <thead>\n",
       "    <tr style=\"text-align: right;\">\n",
       "      <th></th>\n",
       "      <th>CID</th>\n",
       "      <th>TID</th>\n",
       "      <th>Gender</th>\n",
       "      <th>Age category</th>\n",
       "      <th>Purchase Date</th>\n",
       "      <th>...</th>\n",
       "      <th>Discount Amount (INR)</th>\n",
       "      <th>Gross Amount</th>\n",
       "      <th>Net Amount</th>\n",
       "      <th>Purchase Method</th>\n",
       "      <th>Location</th>\n",
       "    </tr>\n",
       "  </thead>\n",
       "  <tbody>\n",
       "    <tr>\n",
       "      <th>0</th>\n",
       "      <td>943146</td>\n",
       "      <td>5876328741</td>\n",
       "      <td>Female</td>\n",
       "      <td>25-45</td>\n",
       "      <td>30/08/2023 20:27:08</td>\n",
       "      <td>...</td>\n",
       "      <td>64.30</td>\n",
       "      <td>725.30</td>\n",
       "      <td>661.00</td>\n",
       "      <td>Credit Card</td>\n",
       "      <td>Ahmedabad</td>\n",
       "    </tr>\n",
       "    <tr>\n",
       "      <th>1</th>\n",
       "      <td>180079</td>\n",
       "      <td>1018503182</td>\n",
       "      <td>Male</td>\n",
       "      <td>25-45</td>\n",
       "      <td>23/02/2024 09:33:46</td>\n",
       "      <td>...</td>\n",
       "      <td>175.19</td>\n",
       "      <td>4638.99</td>\n",
       "      <td>4463.80</td>\n",
       "      <td>Credit Card</td>\n",
       "      <td>Bangalore</td>\n",
       "    </tr>\n",
       "    <tr>\n",
       "      <th>2</th>\n",
       "      <td>337580</td>\n",
       "      <td>3814082218</td>\n",
       "      <td>Other</td>\n",
       "      <td>60 and above</td>\n",
       "      <td>44715</td>\n",
       "      <td>...</td>\n",
       "      <td>211.54</td>\n",
       "      <td>1986.37</td>\n",
       "      <td>1774.83</td>\n",
       "      <td>Credit Card</td>\n",
       "      <td>Delhi</td>\n",
       "    </tr>\n",
       "    <tr>\n",
       "      <th>3</th>\n",
       "      <td>180333</td>\n",
       "      <td>1395204173</td>\n",
       "      <td>Other</td>\n",
       "      <td>60 and above</td>\n",
       "      <td>43932</td>\n",
       "      <td>...</td>\n",
       "      <td>0.00</td>\n",
       "      <td>5695.61</td>\n",
       "      <td>5695.61</td>\n",
       "      <td>Debit Card</td>\n",
       "      <td>Delhi</td>\n",
       "    </tr>\n",
       "    <tr>\n",
       "      <th>4</th>\n",
       "      <td>447553</td>\n",
       "      <td>8009390577</td>\n",
       "      <td>Male</td>\n",
       "      <td>18-25</td>\n",
       "      <td>31/05/2022 17:00:32</td>\n",
       "      <td>...</td>\n",
       "      <td>439.92</td>\n",
       "      <td>2292.65</td>\n",
       "      <td>1852.73</td>\n",
       "      <td>Credit Card</td>\n",
       "      <td>Delhi</td>\n",
       "    </tr>\n",
       "    <tr>\n",
       "      <th>...</th>\n",
       "      <td>...</td>\n",
       "      <td>...</td>\n",
       "      <td>...</td>\n",
       "      <td>...</td>\n",
       "      <td>...</td>\n",
       "      <td>...</td>\n",
       "      <td>...</td>\n",
       "      <td>...</td>\n",
       "      <td>...</td>\n",
       "      <td>...</td>\n",
       "      <td>...</td>\n",
       "    </tr>\n",
       "    <tr>\n",
       "      <th>54995</th>\n",
       "      <td>295864</td>\n",
       "      <td>5407639888</td>\n",
       "      <td>Other</td>\n",
       "      <td>25-45</td>\n",
       "      <td>23/02/2020 10:42:04</td>\n",
       "      <td>...</td>\n",
       "      <td>110.89</td>\n",
       "      <td>2819.91</td>\n",
       "      <td>2709.02</td>\n",
       "      <td>Debit Card</td>\n",
       "      <td>Other</td>\n",
       "    </tr>\n",
       "    <tr>\n",
       "      <th>54996</th>\n",
       "      <td>706435</td>\n",
       "      <td>1144029904</td>\n",
       "      <td>Other</td>\n",
       "      <td>18-25</td>\n",
       "      <td>44537</td>\n",
       "      <td>...</td>\n",
       "      <td>488.59</td>\n",
       "      <td>3891.30</td>\n",
       "      <td>3402.71</td>\n",
       "      <td>Cash on Delivery</td>\n",
       "      <td>Bangalore</td>\n",
       "    </tr>\n",
       "    <tr>\n",
       "      <th>54997</th>\n",
       "      <td>649435</td>\n",
       "      <td>9587323189</td>\n",
       "      <td>Male</td>\n",
       "      <td>45-60</td>\n",
       "      <td>45330</td>\n",
       "      <td>...</td>\n",
       "      <td>417.63</td>\n",
       "      <td>4094.69</td>\n",
       "      <td>3677.06</td>\n",
       "      <td>Credit Card</td>\n",
       "      <td>Mumbai</td>\n",
       "    </tr>\n",
       "    <tr>\n",
       "      <th>54998</th>\n",
       "      <td>982183</td>\n",
       "      <td>5032564481</td>\n",
       "      <td>Female</td>\n",
       "      <td>45-60</td>\n",
       "      <td>43959</td>\n",
       "      <td>...</td>\n",
       "      <td>204.56</td>\n",
       "      <td>3977.47</td>\n",
       "      <td>3772.91</td>\n",
       "      <td>Credit Card</td>\n",
       "      <td>Kolkata</td>\n",
       "    </tr>\n",
       "    <tr>\n",
       "      <th>54999</th>\n",
       "      <td>126691</td>\n",
       "      <td>9172953722</td>\n",
       "      <td>Male</td>\n",
       "      <td>25-45</td>\n",
       "      <td>21/07/2022 09:05:18</td>\n",
       "      <td>...</td>\n",
       "      <td>380.81</td>\n",
       "      <td>3703.58</td>\n",
       "      <td>3322.77</td>\n",
       "      <td>Credit Card</td>\n",
       "      <td>Mumbai</td>\n",
       "    </tr>\n",
       "  </tbody>\n",
       "</table>\n",
       "<p>55000 rows × 13 columns</p>\n",
       "</div>"
      ],
      "text/plain": [
       "          CID         TID  Gender  Age category        Purchase Date  ...  \\\n",
       "0      943146  5876328741  Female         25-45  30/08/2023 20:27:08  ...   \n",
       "1      180079  1018503182    Male         25-45  23/02/2024 09:33:46  ...   \n",
       "2      337580  3814082218   Other  60 and above                44715  ...   \n",
       "3      180333  1395204173   Other  60 and above                43932  ...   \n",
       "4      447553  8009390577    Male         18-25  31/05/2022 17:00:32  ...   \n",
       "...       ...         ...     ...           ...                  ...  ...   \n",
       "54995  295864  5407639888   Other         25-45  23/02/2020 10:42:04  ...   \n",
       "54996  706435  1144029904   Other         18-25                44537  ...   \n",
       "54997  649435  9587323189    Male         45-60                45330  ...   \n",
       "54998  982183  5032564481  Female         45-60                43959  ...   \n",
       "54999  126691  9172953722    Male         25-45  21/07/2022 09:05:18  ...   \n",
       "\n",
       "      Discount Amount (INR) Gross Amount Net Amount   Purchase Method  \\\n",
       "0                     64.30       725.30     661.00       Credit Card   \n",
       "1                    175.19      4638.99    4463.80       Credit Card   \n",
       "2                    211.54      1986.37    1774.83       Credit Card   \n",
       "3                      0.00      5695.61    5695.61        Debit Card   \n",
       "4                    439.92      2292.65    1852.73       Credit Card   \n",
       "...                     ...          ...        ...               ...   \n",
       "54995                110.89      2819.91    2709.02        Debit Card   \n",
       "54996                488.59      3891.30    3402.71  Cash on Delivery   \n",
       "54997                417.63      4094.69    3677.06       Credit Card   \n",
       "54998                204.56      3977.47    3772.91       Credit Card   \n",
       "54999                380.81      3703.58    3322.77       Credit Card   \n",
       "\n",
       "        Location  \n",
       "0      Ahmedabad  \n",
       "1      Bangalore  \n",
       "2          Delhi  \n",
       "3          Delhi  \n",
       "4          Delhi  \n",
       "...          ...  \n",
       "54995      Other  \n",
       "54996  Bangalore  \n",
       "54997     Mumbai  \n",
       "54998    Kolkata  \n",
       "54999     Mumbai  \n",
       "\n",
       "[55000 rows x 13 columns]"
      ]
     },
     "execution_count": 106,
     "metadata": {},
     "output_type": "execute_result"
    }
   ],
   "source": [
    "df"
   ]
  },
  {
   "cell_type": "code",
   "execution_count": 110,
   "id": "ca573272",
   "metadata": {},
   "outputs": [],
   "source": [
    "df['purchase period month'] = df['Purchase Date'].dt.to_period('M')"
   ]
  },
  {
   "cell_type": "code",
   "execution_count": 111,
   "id": "40b8e507",
   "metadata": {},
   "outputs": [],
   "source": [
    "purchase_trend = df.groupby('purchase period month').size()"
   ]
  },
  {
   "cell_type": "code",
   "execution_count": 112,
   "id": "fb81c12d",
   "metadata": {},
   "outputs": [
    {
     "data": {
      "text/plain": [
       "purchase period month\n",
       "2019-09    350\n",
       "2019-10    610\n",
       "2019-11    527\n",
       "2019-12    574\n",
       "2020-01    536\n",
       "          ... \n",
       "2024-05    520\n",
       "2024-06    565\n",
       "2024-07    555\n",
       "2024-08    565\n",
       "2024-09    156\n",
       "Freq: M, Length: 61, dtype: int64"
      ]
     },
     "execution_count": 112,
     "metadata": {},
     "output_type": "execute_result"
    }
   ],
   "source": [
    "purchase_trend"
   ]
  },
  {
   "cell_type": "code",
   "execution_count": 113,
   "id": "85730659",
   "metadata": {},
   "outputs": [
    {
     "data": {
      "image/png": "[encoded data removed]",
      "text/plain": [
       "<Figure size 1400x800 with 1 Axes>"
      ]
     },
     "metadata": {},
     "output_type": "display_data"
    }
   ],
   "source": [
    "plt.figure(figsize=(14,8))\n",
    "plt.subplot(2,2,1)\n",
    "purchase_trend.plot(kind='line' , marker='o' , color='blue')\n",
    "plt.title('Number of purchases over time')\n",
    "plt.ylabel('Number of purchases')\n",
    "plt.xlabel('Year')\n",
    "plt.grid(True)\n",
    "plt.xticks(rotation=45)\n",
    "plt.show()"
   ]
  },
  {
   "cell_type": "code",
   "execution_count": null,
   "id": "89ea8923",
   "metadata": {},
   "outputs": [],
   "source": []
  },
  {
   "cell_type": "code",
   "execution_count": null,
   "id": "d7d63e32",
   "metadata": {},
   "outputs": [],
   "source": []
  },
  {
   "cell_type": "code",
   "execution_count": null,
   "id": "26cd2562",
   "metadata": {},
   "outputs": [],
   "source": []
  },
  {
   "cell_type": "code",
   "execution_count": null,
   "id": "f9143cc9",
   "metadata": {},
   "outputs": [],
   "source": []
  },
  {
   "cell_type": "code",
   "execution_count": null,
   "id": "0128c74e",
   "metadata": {},
   "outputs": [],
   "source": []
  },
  {
   "cell_type": "code",
   "execution_count": null,
   "id": "5af63bf8",
   "metadata": {},
   "outputs": [],
   "source": []
  },
  {
   "cell_type": "code",
   "execution_count": null,
   "id": "3e987c42",
   "metadata": {},
   "outputs": [],
   "source": []
  },
  {
   "cell_type": "code",
   "execution_count": null,
   "id": "d342f934",
   "metadata": {},
   "outputs": [],
   "source": []
  },
  {
   "cell_type": "code",
   "execution_count": null,
   "id": "d1f9f6d1",
   "metadata": {},
   "outputs": [],
   "source": []
  },
  {
   "cell_type": "code",
   "execution_count": null,
   "id": "8fd0df67",
   "metadata": {},
   "outputs": [],
   "source": []
  },
  {
   "cell_type": "code",
   "execution_count": null,
   "id": "b50e6669",
   "metadata": {},
   "outputs": [],
   "source": []
  },
  {
   "cell_type": "code",
   "execution_count": null,
   "id": "b7b0cded",
   "metadata": {},
   "outputs": [],
   "source": []
  },
  {
   "cell_type": "code",
   "execution_count": null,
   "id": "1b131eff",
   "metadata": {},
   "outputs": [],
   "source": []
  },
  {
   "cell_type": "code",
   "execution_count": null,
   "id": "ccb42486",
   "metadata": {},
   "outputs": [],
   "source": []
  }
 ],
 "metadata": {
  "kernelspec": {
   "display_name": "Python 3 (ipykernel)",
   "language": "python",
   "name": "python3"
  },
  "language_info": {
   "codemirror_mode": {
    "name": "ipython",
    "version": 3
   },
   "file_extension": ".py",
   "mimetype": "text/x-python",
   "name": "python",
   "nbconvert_exporter": "python",
   "pygments_lexer": "ipython3",
   "version": "3.11.5"
  }
 },
 "nbformat": 4,
 "nbformat_minor": 5
}
